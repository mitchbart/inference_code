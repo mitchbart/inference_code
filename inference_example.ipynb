{
 "cells": [
  {
   "cell_type": "code",
   "id": "initial_id",
   "metadata": {
    "collapsed": true,
    "ExecuteTime": {
     "end_time": "2024-05-19T04:39:50.540247Z",
     "start_time": "2024-05-19T04:39:50.537400Z"
    }
   },
   "source": [
    "# Imports\n",
    "import numpy as np\n",
    "import pandas as pd\n",
    "import matplotlib.pyplot as plt\n",
    "import seaborn as sns\n",
    "import random\n"
   ],
   "outputs": [],
   "execution_count": 148
  },
  {
   "metadata": {
    "ExecuteTime": {
     "end_time": "2024-05-19T05:03:15.854612Z",
     "start_time": "2024-05-19T05:03:15.851134Z"
    }
   },
   "cell_type": "code",
   "source": [
    "# Create a list representing all 38815 undergraduate students in the university\n",
    "# 16% of students make the deans list - represented by \"y\", the remainder do not - represented by \"n\"\n",
    "\n",
    "p = 0.16\n",
    "n_pop = 40000  # number of university students\n",
    "count_y = int(n_pop * p)  # 16% make deans list\n",
    "count_n = n_pop - count_y  # remainder did not\n",
    "\n",
    "# Generate list\n",
    "pop_list = [\"y\"] * count_y + [\"n\"] * count_n\n",
    "print(count_n, count_y)"
   ],
   "id": "2096657ad9b7ca94",
   "outputs": [
    {
     "name": "stdout",
     "output_type": "stream",
     "text": [
      "33600 6400\n"
     ]
    }
   ],
   "execution_count": 197
  },
  {
   "metadata": {
    "ExecuteTime": {
     "end_time": "2024-05-19T05:04:39.630821Z",
     "start_time": "2024-05-19T05:04:39.617195Z"
    }
   },
   "cell_type": "code",
   "source": [
    "# Function to \n",
    "def do_point_est(population, size, n):\n",
    "    point_est_list = []\n",
    "    for i in range(n):  # loop through number of times to sample\n",
    "        sample = random.sample(population, size)  # sample without replacement\n",
    "        count = sample.count(\"y\")  # count occurrences of 'y' in the sample\n",
    "        result = count / size  # calculate proportion\n",
    "        point_est_list.append(result)\n",
    "    return point_est_list\n",
    "\n",
    "sample_size = 40\n",
    "n_times = 1000\n",
    "point_est = do_point_est(pop_list, sample_size, n_times)\n",
    "#print(test_list)"
   ],
   "id": "d6d732ffc8386137",
   "outputs": [],
   "execution_count": 222
  },
  {
   "metadata": {
    "ExecuteTime": {
     "end_time": "2024-05-19T05:04:40.248131Z",
     "start_time": "2024-05-19T05:04:40.130643Z"
    }
   },
   "cell_type": "code",
   "source": [
    "# Histogram of point estimates\n",
    "#n_bins = int((max(point_est) - min(point_est)) * 100)\n",
    "\n",
    "plt.hist(point_est, bins=24, edgecolor='black')\n",
    "\n",
    "# Add titles and labels\n",
    "plt.title('Histogram of Entries')\n",
    "plt.xlabel('Entry Type')\n",
    "plt.ylabel('Frequency')\n",
    "\n",
    "# Display the plot\n",
    "plt.show()"
   ],
   "id": "aca33e2c2b4d10ec",
   "outputs": [
    {
     "data": {
      "text/plain": [
       "<Figure size 640x480 with 1 Axes>"
      ],
      "image/png": "[encoded data removed]"
     },
     "metadata": {},
     "output_type": "display_data"
    }
   ],
   "execution_count": 223
  },
  {
   "metadata": {
    "ExecuteTime": {
     "end_time": "2024-05-19T05:03:29.975716Z",
     "start_time": "2024-05-19T05:03:29.973644Z"
    }
   },
   "cell_type": "code",
   "source": "",
   "id": "7e9c56ecd0407959",
   "outputs": [],
   "execution_count": 202
  },
  {
   "metadata": {},
   "cell_type": "code",
   "outputs": [],
   "execution_count": null,
   "source": "",
   "id": "d7ceaf4a0802ba04"
  }
 ],
 "metadata": {
  "kernelspec": {
   "display_name": "Python 3",
   "language": "python",
   "name": "python3"
  },
  "language_info": {
   "codemirror_mode": {
    "name": "ipython",
    "version": 2
   },
   "file_extension": ".py",
   "mimetype": "text/x-python",
   "name": "python",
   "nbconvert_exporter": "python",
   "pygments_lexer": "ipython2",
   "version": "2.7.6"
  }
 },
 "nbformat": 4,
 "nbformat_minor": 5
}
