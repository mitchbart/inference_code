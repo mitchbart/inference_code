{
 "cells": [
  {
   "cell_type": "code",
   "id": "initial_id",
   "metadata": {
    "collapsed": true,
    "ExecuteTime": {
     "end_time": "2024-05-21T00:54:58.693878Z",
     "start_time": "2024-05-21T00:54:58.682462Z"
    }
   },
   "source": [
    "# Imports\n",
    "#import numpy as np\n",
    "import pandas as pd\n",
    "import matplotlib.pyplot as plt\n",
    "import seaborn as sns\n",
    "import random\n"
   ],
   "outputs": [],
   "execution_count": 554
  },
  {
   "metadata": {
    "ExecuteTime": {
     "end_time": "2024-05-21T00:54:59.764933Z",
     "start_time": "2024-05-21T00:54:58.693878Z"
    }
   },
   "cell_type": "code",
   "source": [
    "# Create a list representing all 38815 undergraduate students in the university\n",
    "# 16% of students make the deans list - represented by \"y\", the remainder do not - represented by \"n\"\n",
    "\n",
    "p = 0.88  # percentage who made deans list\n",
    "pop_size = 250000000  # number of university students\n",
    "count_y = int(pop_size * p)  # 16% make deans list\n",
    "count_n = pop_size - count_y  # remainder did not\n",
    "\n",
    "# Generate list\n",
    "pop_list = [\"y\"] * count_y + [\"n\"] * count_n\n",
    "#random.shuffle(pop_list)  # shuffle population - not really necessary\n",
    "print(count_n, count_y)"
   ],
   "id": "2096657ad9b7ca94",
   "outputs": [
    {
     "name": "stdout",
     "output_type": "stream",
     "text": [
      "30000000 220000000\n"
     ]
    }
   ],
   "execution_count": 555
  },
  {
   "metadata": {
    "ExecuteTime": {
     "end_time": "2024-05-21T00:55:02.727914Z",
     "start_time": "2024-05-21T00:54:59.764933Z"
    }
   },
   "cell_type": "code",
   "source": [
    "# Function to \n",
    "def build_sampling_distribution(population, n_observations, n_times):\n",
    "    point_est_list = []\n",
    "    for i in range(n_times):  # loop through number of times to sample\n",
    "        sample = random.sample(population, n_observations)  # sample without replacement\n",
    "        count = sample.count(\"y\")  # count occurrences of 'y' in the sample\n",
    "        p_hat = count / n_observations  # compute p hat\n",
    "        point_est_list.append(p_hat)  # append p hat to list\n",
    "    return point_est_list\n",
    "\n",
    "n = 1000  # observations per samples\n",
    "n_samples = 10000  # number of times to sample\n",
    "point_est = build_sampling_distribution(pop_list, n, n_samples)\n",
    "#print(test_list)\n"
   ],
   "id": "d6d732ffc8386137",
   "outputs": [],
   "execution_count": 556
  },
  {
   "metadata": {
    "ExecuteTime": {
     "end_time": "2024-05-21T00:55:03.800949Z",
     "start_time": "2024-05-21T00:55:02.727914Z"
    }
   },
   "cell_type": "code",
   "source": [
    "# Histogram of point estimates\n",
    "#n_bins = int((max(point_est) - min(point_est)) * 100)\n",
    "\n",
    "plt.hist(point_est, bins=40, edgecolor='black')\n",
    "\n",
    "# Add titles and labels\n",
    "plt.title('Histogram of Entries')\n",
    "plt.xlabel('Entry Type')\n",
    "plt.ylabel('Frequency')\n",
    "\n",
    "# Display the plot\n",
    "plt.show()"
   ],
   "id": "aca33e2c2b4d10ec",
   "outputs": [
    {
     "data": {
      "text/plain": [
       "<Figure size 640x480 with 1 Axes>"
      ],
      "image/png": "[encoded data removed]"
     },
     "metadata": {},
     "output_type": "display_data"
    }
   ],
   "execution_count": 557
  },
  {
   "metadata": {
    "ExecuteTime": {
     "end_time": "2024-05-21T00:55:03.804835Z",
     "start_time": "2024-05-21T00:55:03.800949Z"
    }
   },
   "cell_type": "code",
   "source": [
    "# Explore CTL\n",
    "\n",
    "# For CTL to hold, sample is considered sufficiently large when np>= 10 and n(1-p) >= 10\n",
    "np = n * p\n",
    "n_one_minus_p = (1 - p) * n\n",
    "\n",
    "print(\"np:\", np)\n",
    "print(\"n(1 - p):\", n_one_minus_p)\n",
    "\n",
    "if np >= 10 and n_one_minus_p >= 10:\n",
    "    print(\"Sample size is sufficiently large\")\n",
    "else:\n",
    "    print(\"Sample size is insufficient\")"
   ],
   "id": "7e9c56ecd0407959",
   "outputs": [
    {
     "name": "stdout",
     "output_type": "stream",
     "text": [
      "np: 880.0\n",
      "n(1 - p): 120.0\n",
      "Sample size is sufficiently large\n"
     ]
    }
   ],
   "execution_count": 558
  },
  {
   "metadata": {
    "ExecuteTime": {
     "end_time": "2024-05-21T00:55:03.807103Z",
     "start_time": "2024-05-21T00:55:03.804835Z"
    }
   },
   "cell_type": "code",
   "source": [
    "# compute the theoretical mean and standard error of p_hat\n",
    "\n"
   ],
   "id": "d7ceaf4a0802ba04",
   "outputs": [],
   "execution_count": 558
  }
 ],
 "metadata": {
  "kernelspec": {
   "display_name": "Python 3",
   "language": "python",
   "name": "python3"
  },
  "language_info": {
   "codemirror_mode": {
    "name": "ipython",
    "version": 2
   },
   "file_extension": ".py",
   "mimetype": "text/x-python",
   "name": "python",
   "nbconvert_exporter": "python",
   "pygments_lexer": "ipython2",
   "version": "2.7.6"
  }
 },
 "nbformat": 4,
 "nbformat_minor": 5
}
